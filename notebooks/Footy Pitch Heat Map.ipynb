{
 "cells": [
  {
   "cell_type": "code",
   "execution_count": 5,
   "id": "9391906c",
   "metadata": {},
   "outputs": [],
   "source": [
    "import pandas as pd\n",
    "import numpy as np\n",
    "import matplotlib.pyplot as plt\n",
    "from matplotlib.patches import Arc\n",
    "import seaborn as sns\n",
    "\n",
    "%matplotlib inline"
   ]
  },
  {
   "cell_type": "code",
   "execution_count": 6,
   "id": "5fdbc173",
   "metadata": {},
   "outputs": [],
   "source": [
    "#\n",
    "data = pd.read_csv(\"Data/passes.csv\")\n",
    "data.head()"
   ]
  },
  {
   "cell_type": "code",
   "execution_count": null,
   "id": "c45f3cdf",
   "metadata": {},
   "outputs": [],
   "source": [
    "fig, ax = plt.subplots()\n",
    "fig.set_size_inches(14, 4)\n",
    "\n",
    "# Plot One - distinct areas with few lines\n",
    "plt.subplot(121)\n",
    "sns.kdeplot(data[\"Xstart\"], data[\"Ystart\"], shade=\"True\", n_levels=5)\n",
    "\n",
    "# Plot Two - fade lines with more of them\n",
    "plt.subplot(122)\n",
    "sns.kdeplot(data[\"Xstart\"], data[\"Ystart\"], shade=\"True\", n_levels=40)\n",
    "\n",
    "plt.show()"
   ]
  },
  {
   "cell_type": "code",
   "execution_count": null,
   "id": "a1a0027d",
   "metadata": {},
   "outputs": [],
   "source": [
    "# Create figure\n",
    "fig = plt.figure()\n",
    "fig.set_size_inches(7, 5)\n",
    "ax = fig.add_subplot(1, 1, 1)\n",
    "\n",
    "# Pitch Outline & Centre Line\n",
    "plt.plot([0, 0], [0, 90], color=\"black\")\n",
    "plt.plot([0, 130], [90, 90], color=\"black\")\n",
    "plt.plot([130, 130], [90, 0], color=\"black\")\n",
    "plt.plot([130, 0], [0, 0], color=\"black\")\n",
    "plt.plot([65, 65], [0, 90], color=\"black\")\n",
    "\n",
    "# Left Penalty Area\n",
    "plt.plot([16.5, 16.5], [65, 25], color=\"black\")\n",
    "plt.plot([0, 16.5], [65, 65], color=\"black\")\n",
    "plt.plot([16.5, 0], [25, 25], color=\"black\")\n",
    "\n",
    "# Right Penalty Area\n",
    "plt.plot([130, 113.5], [65, 65], color=\"black\")\n",
    "plt.plot([113.5, 113.5], [65, 25], color=\"black\")\n",
    "plt.plot([113.5, 130], [25, 25], color=\"black\")\n",
    "\n",
    "# Left 6-yard Box\n",
    "plt.plot([0, 5.5], [54, 54], color=\"black\")\n",
    "plt.plot([5.5, 5.5], [54, 36], color=\"black\")\n",
    "plt.plot([5.5, 0.5], [36, 36], color=\"black\")\n",
    "\n",
    "# Right 6-yard Box\n",
    "plt.plot([130, 124.5], [54, 54], color=\"black\")\n",
    "plt.plot([124.5, 124.5], [54, 36], color=\"black\")\n",
    "plt.plot([124.5, 130], [36, 36], color=\"black\")\n",
    "\n",
    "# Prepare Circles\n",
    "centreCircle = plt.Circle((65, 45), 9.15, color=\"black\", fill=False)\n",
    "centreSpot = plt.Circle((65, 45), 0.8, color=\"black\")\n",
    "leftPenSpot = plt.Circle((11, 45), 0.8, color=\"black\")\n",
    "rightPenSpot = plt.Circle((119, 45), 0.8, color=\"black\")\n",
    "\n",
    "# Draw Circles\n",
    "ax.add_patch(centreCircle)\n",
    "ax.add_patch(centreSpot)\n",
    "ax.add_patch(leftPenSpot)\n",
    "ax.add_patch(rightPenSpot)\n",
    "\n",
    "# Prepare Arcs\n",
    "leftArc = Arc(\n",
    "    (11, 45), height=18.3, width=18.3, angle=0, theta1=310, theta2=50, color=\"black\"\n",
    ")\n",
    "rightArc = Arc(\n",
    "    (119, 45), height=18.3, width=18.3, angle=0, theta1=130, theta2=230, color=\"black\"\n",
    ")\n",
    "\n",
    "# Draw Arcs\n",
    "ax.add_patch(leftArc)\n",
    "ax.add_patch(rightArc)\n",
    "\n",
    "# Tidy Axes\n",
    "plt.axis(\"off\")\n",
    "\n",
    "sns.kdeplot(data[\"Xstart\"], data[\"Ystart\"], shade=True, n_levels=50)\n",
    "plt.ylim(0, 90)\n",
    "plt.xlim(0, 130)\n",
    "\n",
    "# Display Pitch\n",
    "plt.show()"
   ]
  }
 ],
 "metadata": {
  "kernelspec": {
   "display_name": "Python 3 (ipykernel)",
   "language": "python",
   "name": "python3"
  },
  "language_info": {
   "codemirror_mode": {
    "name": "ipython",
    "version": 3
   },
   "file_extension": ".py",
   "mimetype": "text/x-python",
   "name": "python",
   "nbconvert_exporter": "python",
   "pygments_lexer": "ipython3",
   "version": "3.11.2"
  }
 },
 "nbformat": 4,
 "nbformat_minor": 5
}
